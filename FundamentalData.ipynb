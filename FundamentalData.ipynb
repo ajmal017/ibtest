{
 "cells": [
  {
   "cell_type": "code",
   "execution_count": 1,
   "metadata": {},
   "outputs": [
    {
     "name": "stdout",
     "output_type": "stream",
     "text": [
      "['util', 'Event', 'SoftDollarTier', 'PriceIncrement', 'Execution', 'CommissionReport', 'BarList', 'BarDataList', 'RealTimeBarList', 'BarData', 'RealTimeBar', 'HistogramData', 'NewsProvider', 'DepthMktDataDescription', 'ScannerSubscription', 'ScanDataList', 'FundamentalRatios', 'ExecutionFilter', 'PnL', 'PnLSingle', 'AccountValue', 'TickData', 'TickByTickAllLast', 'TickByTickBidAsk', 'TickByTickMidPoint', 'HistoricalTick', 'HistoricalTickBidAsk', 'HistoricalTickLast', 'TickAttrib', 'TickAttribBidAsk', 'TickAttribLast', 'MktDepthData', 'DOMLevel', 'TradeLogEntry', 'FamilyCode', 'SmartComponent', 'PortfolioItem', 'Position', 'Fill', 'OptionComputation', 'OptionChain', 'Dividends', 'NewsArticle', 'HistoricalNews', 'NewsTick', 'NewsBulletin', 'ConnectionStats', 'Contract', 'Stock', 'Option', 'Future', 'ContFuture', 'Forex', 'Index', 'CFD', 'Commodity', 'Bond', 'FuturesOption', 'MutualFund', 'Warrant', 'Bag', 'TagValue', 'ComboLeg', 'DeltaNeutralContract', 'ContractDetails', 'ContractDescription', 'ScanData', 'Trade', 'Order', 'OrderStatus', 'OrderState', 'OrderComboLeg', 'LimitOrder', 'MarketOrder', 'StopOrder', 'StopLimitOrder', 'BracketOrder', 'OrderCondition', 'ExecutionCondition', 'MarginCondition', 'TimeCondition', 'PriceCondition', 'PercentChangeCondition', 'VolumeCondition', 'Ticker', 'IB', 'Client', 'Wrapper', 'FlexReport', 'FlexError', 'IBC', 'IBController', 'Watchdog']\n"
     ]
    },
    {
     "data": {
      "text/plain": [
       "<IB connected to 127.0.0.1:7497 clientId=10>"
      ]
     },
     "execution_count": 1,
     "metadata": {},
     "output_type": "execute_result"
    }
   ],
   "source": [
    "\n",
    "import pandas as pd\n",
    "import numpy as np\n",
    "import copy\n",
    "import pickle\n",
    "import time\n",
    "import matplotlib.pyplot as plt\n",
    "from IPython.display import display\n",
    "from datetime import datetime\n",
    "import datetime as dt\n",
    "import ib_insync\n",
    "print(ib_insync.__all__)\n",
    "\n",
    "from ib_insync import *\n",
    "#Andy - not using Jupyter\n",
    "util.startLoop()\n",
    "\n",
    "#Andy- this is the default account, setting so that orders can be allocated to it.\n",
    "# acc_num = 'DU1870227'\n",
    "# acc_num = ''\n",
    "\n",
    "#Connect to IB Gateway\n",
    "ib = IB()\n",
    "ib.connect('127.0.0.1', 7497, clientId=10,timeout=100)\n"
   ]
  },
  {
   "cell_type": "code",
   "execution_count": 11,
   "metadata": {},
   "outputs": [
    {
     "name": "stdout",
     "output_type": "stream",
     "text": [
      "Collecting BeautifulSoup4\n",
      "  Downloading beautifulsoup4-4.9.1-py3-none-any.whl (115 kB)\n",
      "\u001b[K     |████████████████████████████████| 115 kB 5.4 MB/s eta 0:00:01\n",
      "\u001b[?25hCollecting soupsieve>1.2\n",
      "  Downloading soupsieve-2.0.1-py3-none-any.whl (32 kB)\n",
      "Installing collected packages: soupsieve, BeautifulSoup4\n",
      "Successfully installed BeautifulSoup4-4.9.1 soupsieve-2.0.1\n",
      "Note: you may need to restart the kernel to use updated packages.\n"
     ]
    }
   ],
   "source": [
    "pip install BeautifulSoup4"
   ]
  },
  {
   "cell_type": "code",
   "execution_count": 14,
   "metadata": {},
   "outputs": [],
   "source": [
    "from bs4 import BeautifulSoup"
   ]
  },
  {
   "cell_type": "code",
   "execution_count": 2,
   "metadata": {},
   "outputs": [],
   "source": [
    "security = Stock('AAPL', 'SMART', 'USD')"
   ]
  },
  {
   "cell_type": "code",
   "execution_count": 3,
   "metadata": {},
   "outputs": [],
   "source": [
    "fundamentals = ib.reqFundamentalData(security, reportType='ReportSnapshot')\n",
    "soup = BeautifulSoup(fundamentals)\n",
    "market_cap = soup.find_all('ratio', fieldname=\"MKTCAP\")"
   ]
  },
  {
   "cell_type": "code",
   "execution_count": 26,
   "metadata": {},
   "outputs": [
    {
     "data": {
      "text/plain": [
       "[<issueid type=\"Name\">Ordinary Shares</issueid>,\n",
       " <issueid type=\"Ticker\">AAPL</issueid>,\n",
       " <issueid type=\"RIC\">AAPL.O</issueid>,\n",
       " <issueid type=\"DisplayRIC\">AAPL.OQ</issueid>,\n",
       " <issueid type=\"InstrumentPI\">331724</issueid>,\n",
       " <issueid type=\"QuotePI\">7645713</issueid>,\n",
       " <issueid type=\"Name\">Preference Shares</issueid>,\n",
       " <issueid type=\"InstrumentPI\">100112850</issueid>]"
      ]
     },
     "execution_count": 26,
     "metadata": {},
     "output_type": "execute_result"
    }
   ],
   "source": [
    "soup.find_all(\"issueid\")"
   ]
  },
  {
   "cell_type": "code",
   "execution_count": 48,
   "metadata": {},
   "outputs": [],
   "source": [
    "ebitda = soup.find_all('ratio', fieldname=\"TTMEBITD\")\n",
    "gross_margin = soup.find_all('ratio', fieldname=\"TTMEBITD\")\n",
    "market_cap = soup.find_all('ratio', fieldname=\"MKTCAP\")\n",
    "beta = soup.find('ratio', fieldname='ProjPE')"
   ]
  },
  {
   "cell_type": "code",
   "execution_count": 73,
   "metadata": {},
   "outputs": [],
   "source": [
    "#Read SP500\n",
    "SP500_universe = pd.read_pickle(\"sp500univ.pickle\")"
   ]
  },
  {
   "cell_type": "code",
   "execution_count": 74,
   "metadata": {},
   "outputs": [],
   "source": [
    "SPExchangeData = pd.read_csv(\"SP500data.csv\")\n",
    "SPExchangeData.index= SPExchangeData[\"Stock\"]"
   ]
  },
  {
   "cell_type": "code",
   "execution_count": 102,
   "metadata": {},
   "outputs": [
    {
     "data": {
      "text/html": [
       "<div>\n",
       "<style scoped>\n",
       "    .dataframe tbody tr th:only-of-type {\n",
       "        vertical-align: middle;\n",
       "    }\n",
       "\n",
       "    .dataframe tbody tr th {\n",
       "        vertical-align: top;\n",
       "    }\n",
       "\n",
       "    .dataframe thead th {\n",
       "        text-align: right;\n",
       "    }\n",
       "</style>\n",
       "<table border=\"1\" class=\"dataframe\">\n",
       "  <thead>\n",
       "    <tr style=\"text-align: right;\">\n",
       "      <th></th>\n",
       "      <th>Stock</th>\n",
       "      <th>primaryExchange</th>\n",
       "    </tr>\n",
       "    <tr>\n",
       "      <th>Stock</th>\n",
       "      <th></th>\n",
       "      <th></th>\n",
       "    </tr>\n",
       "  </thead>\n",
       "  <tbody>\n",
       "    <tr>\n",
       "      <th>GOOG</th>\n",
       "      <td>GOOG</td>\n",
       "      <td>NASDAQ</td>\n",
       "    </tr>\n",
       "  </tbody>\n",
       "</table>\n",
       "</div>"
      ],
      "text/plain": [
       "      Stock primaryExchange\n",
       "Stock                      \n",
       "GOOG   GOOG          NASDAQ"
      ]
     },
     "execution_count": 102,
     "metadata": {},
     "output_type": "execute_result"
    }
   ],
   "source": [
    "SPExchangeData[SPExchangeData.index==\"GOOG\"]"
   ]
  },
  {
   "cell_type": "code",
   "execution_count": null,
   "metadata": {},
   "outputs": [],
   "source": [
    "### SPExchangeData = pd.read_csv(\"SP500data.csv\")\n",
    "SPExchangeData.index= SPExchangeData[\"Stock\"]\n",
    "MCAP = pd.DataFrame()\n",
    "for stock in SP500_universe:\n",
    "    try:\n",
    "        security = Stock(stock.replace(\".\",\" \"), 'SMART', 'USD',primaryExchange=SPExchangeData.loc[stock][\"primaryExchange\"])\n",
    "        fundamentals = ib.reqFundamentalData(security, reportType='ReportSnapshot')\n",
    "        soup = BeautifulSoup(fundamentals)\n",
    "        market_cap = soup.find_all('ratio', fieldname=\"MKTCAP\")[0].string\n",
    "        lista = {\"stock\":stock, \"market_cap\":market_cap}\n",
    "        MCAP = MCAP.append(lista,ignore_index=True)\n",
    "    except:\n",
    "        print(stock)\n",
    "    time.sleep(0.1)\n"
   ]
  },
  {
   "cell_type": "code",
   "execution_count": 97,
   "metadata": {},
   "outputs": [],
   "source": [
    "MCAP.to_csv(\"marketcap.csv\")"
   ]
  },
  {
   "cell_type": "code",
   "execution_count": 29,
   "metadata": {},
   "outputs": [],
   "source": [
    "CoID = soup.find('CoID', Type='CompanyName')\n",
    "gross_margin = soup.find('Ratio', FieldName='TTMGROSMGN')\n",
    "ebitda = soup.find('Ratio', FieldName='TTMEBITD')\n",
    "\n",
    "\n",
    "\n",
    "#pe_normalized = soup.find('Ratio', FieldName='APENORM').string\n",
    "#beta = soup.find('Ratio', FieldName='BETA').string"
   ]
  },
  {
   "cell_type": "code",
   "execution_count": 31,
   "metadata": {},
   "outputs": [],
   "source": [
    "ebitda"
   ]
  },
  {
   "cell_type": "code",
   "execution_count": null,
   "metadata": {},
   "outputs": [],
   "source": []
  },
  {
   "cell_type": "code",
   "execution_count": 105,
   "metadata": {},
   "outputs": [
    {
     "name": "stdout",
     "output_type": "stream",
     "text": [
      "Ticker(contract=Stock(symbol='AAPL', exchange='SMART', currency='USD'))\n"
     ]
    }
   ],
   "source": [
    "ib.reqMarketDataType(3)\n",
    "element = \"AAPL\"\n",
    "contract = Stock(element, 'SMART', 'USD')\n",
    "print(ib.reqMktData(contract))\n",
    "ib.reqMktData(contract)\n",
    "request = str(ib.reqTickers(contract))\n",
    "request = str(ib.reqMktData(contract))"
   ]
  },
  {
   "cell_type": "code",
   "execution_count": 110,
   "metadata": {},
   "outputs": [
    {
     "data": {
      "text/plain": [
       "0.9999152087278482"
      ]
     },
     "execution_count": 110,
     "metadata": {},
     "output_type": "execute_result"
    },
    {
     "name": "stderr",
     "output_type": "stream",
     "text": [
      "Peer closed connection\n"
     ]
    }
   ],
   "source": [
    "ib.reqMktData(contract).bid/ib.reqMktData(contract).ask"
   ]
  },
  {
   "cell_type": "code",
   "execution_count": null,
   "metadata": {},
   "outputs": [],
   "source": []
  }
 ],
 "metadata": {
  "kernelspec": {
   "display_name": "Python 3",
   "language": "python",
   "name": "python3"
  },
  "language_info": {
   "codemirror_mode": {
    "name": "ipython",
    "version": 3
   },
   "file_extension": ".py",
   "mimetype": "text/x-python",
   "name": "python",
   "nbconvert_exporter": "python",
   "pygments_lexer": "ipython3",
   "version": "3.8.2"
  }
 },
 "nbformat": 4,
 "nbformat_minor": 4
}
