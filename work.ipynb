{
 "cells": [
  {
   "cell_type": "code",
   "execution_count": 1,
   "metadata": {},
   "outputs": [
    {
     "ename": "NameError",
     "evalue": "name 'ib' is not defined",
     "output_type": "error",
     "traceback": [
      "\u001b[0;31m---------------------------------------------------------------------------\u001b[0m",
      "\u001b[0;31mNameError\u001b[0m                                 Traceback (most recent call last)",
      "\u001b[0;32m<ipython-input-1-098124bfacde>\u001b[0m in \u001b[0;36m<module>\u001b[0;34m\u001b[0m\n\u001b[0;32m----> 1\u001b[0;31m \u001b[0mib\u001b[0m\u001b[0;34m.\u001b[0m\u001b[0mdisconnect\u001b[0m\u001b[0;34m(\u001b[0m\u001b[0;34m)\u001b[0m\u001b[0;34m\u001b[0m\u001b[0;34m\u001b[0m\u001b[0m\n\u001b[0m",
      "\u001b[0;31mNameError\u001b[0m: name 'ib' is not defined"
     ]
    }
   ],
   "source": [
    "ib.disconnect()"
   ]
  },
  {
   "cell_type": "code",
   "execution_count": 2,
   "metadata": {},
   "outputs": [
    {
     "name": "stdout",
     "output_type": "stream",
     "text": [
      "['util', 'Event', 'SoftDollarTier', 'PriceIncrement', 'Execution', 'CommissionReport', 'BarList', 'BarDataList', 'RealTimeBarList', 'BarData', 'RealTimeBar', 'HistogramData', 'NewsProvider', 'DepthMktDataDescription', 'ScannerSubscription', 'ScanDataList', 'FundamentalRatios', 'ExecutionFilter', 'PnL', 'PnLSingle', 'AccountValue', 'TickData', 'TickByTickAllLast', 'TickByTickBidAsk', 'TickByTickMidPoint', 'HistoricalTick', 'HistoricalTickBidAsk', 'HistoricalTickLast', 'TickAttrib', 'TickAttribBidAsk', 'TickAttribLast', 'MktDepthData', 'DOMLevel', 'TradeLogEntry', 'FamilyCode', 'SmartComponent', 'PortfolioItem', 'Position', 'Fill', 'OptionComputation', 'OptionChain', 'Dividends', 'NewsArticle', 'HistoricalNews', 'NewsTick', 'NewsBulletin', 'ConnectionStats', 'Contract', 'Stock', 'Option', 'Future', 'ContFuture', 'Forex', 'Index', 'CFD', 'Commodity', 'Bond', 'FuturesOption', 'MutualFund', 'Warrant', 'Bag', 'TagValue', 'ComboLeg', 'DeltaNeutralContract', 'ContractDetails', 'ContractDescription', 'ScanData', 'Trade', 'Order', 'OrderStatus', 'OrderState', 'OrderComboLeg', 'LimitOrder', 'MarketOrder', 'StopOrder', 'StopLimitOrder', 'BracketOrder', 'OrderCondition', 'ExecutionCondition', 'MarginCondition', 'TimeCondition', 'PriceCondition', 'PercentChangeCondition', 'VolumeCondition', 'Ticker', 'IB', 'Client', 'Wrapper', 'FlexReport', 'FlexError', 'IBC', 'IBController', 'Watchdog']\n"
     ]
    },
    {
     "data": {
      "text/plain": [
       "<IB connected to 127.0.0.1:4000 clientId=3>"
      ]
     },
     "execution_count": 2,
     "metadata": {},
     "output_type": "execute_result"
    }
   ],
   "source": [
    "import sys\n",
    "import matplotlib.pyplot as plt\n",
    "import pandas as pd\n",
    "from scipy.stats.stats import pearsonr\n",
    "import random\n",
    "import json\n",
    "from itertools import permutations\n",
    "import numpy as np\n",
    "import copy\n",
    "import pickle\n",
    "import time\n",
    "import multiprocessing as mp\n",
    "import math\n",
    "import matplotlib.pyplot as plt\n",
    "from IPython.display import display\n",
    "from datetime import datetime\n",
    "import datetime as dt\n",
    "import ib_insync\n",
    "print(ib_insync.__all__)\n",
    "\n",
    "from ib_insync import *\n",
    "util.startLoop()\n",
    "\n",
    "#Connect to IB Gateway\n",
    "ib = IB()\n",
    "ib.connect('127.0.0.1', 4000, clientId=3,timeout=100)\n"
   ]
  },
  {
   "cell_type": "code",
   "execution_count": null,
   "metadata": {},
   "outputs": [],
   "source": [
    "CurrentPortfolio = pd.DataFrame()\n",
    "for element in ib.portfolio():\n",
    "    symbol = str(element).split(\"symbol='\")[1].split(\"'\")[0]\n",
    "#     primaryExchange = str(element).split(\"primaryExchange='\")[1].split(\"'\")[0]\n",
    "    position =str(element).split(\"position=\")[1].split(\",\")[0]\n",
    "    unrealizedPNL = str(element).split(\"unrealizedPNL=\")[1].split(\",\")[0]\n",
    "    realizedPNL = str(element).split(\"realizedPNL=\")[1].split(\",\")[0]\n",
    "    marketValue = str(element).split(\"marketValue=\")[1].split(\",\")[0]\n",
    "    list_row = {\"symbol\":symbol, \"position\":position,\"unrealizedPNL\":unrealizedPNL,\"realizedPNL\":realizedPNL,\"marketValue\":marketValue}\n",
    "    \n",
    "    CurrentPortfolio = CurrentPortfolio.append(list_row, ignore_index=True)"
   ]
  },
  {
   "cell_type": "code",
   "execution_count": null,
   "metadata": {},
   "outputs": [],
   "source": [
    "CurrentPortfolio"
   ]
  },
  {
   "cell_type": "code",
   "execution_count": 15,
   "metadata": {},
   "outputs": [],
   "source": [
    "CurrentPortfolio = pd.DataFrame()\n",
    "for element in ib.positions():\n",
    "    symbol = str(element).split(\"symbol='\")[1].split(\"'\")[0]\n",
    "    position =str(element).split(\"position=\")[1].split(\",\")[0]\n",
    "    list_row = {\"symbol\":symbol, \"position\":position}\n",
    "    \n",
    "    CurrentPortfolio = CurrentPortfolio.append(list_row, ignore_index=True)\n",
    "CurrentPortfolio.index = CurrentPortfolio[\"symbol\"]"
   ]
  },
  {
   "cell_type": "code",
   "execution_count": 4,
   "metadata": {},
   "outputs": [],
   "source": [
    "contract = Stock(\"AAPL\", 'SMART', 'USD')"
   ]
  },
  {
   "cell_type": "code",
   "execution_count": 19,
   "metadata": {},
   "outputs": [
    {
     "data": {
      "text/html": [
       "<div>\n",
       "<style scoped>\n",
       "    .dataframe tbody tr th:only-of-type {\n",
       "        vertical-align: middle;\n",
       "    }\n",
       "\n",
       "    .dataframe tbody tr th {\n",
       "        vertical-align: top;\n",
       "    }\n",
       "\n",
       "    .dataframe thead th {\n",
       "        text-align: right;\n",
       "    }\n",
       "</style>\n",
       "<table border=\"1\" class=\"dataframe\">\n",
       "  <thead>\n",
       "    <tr style=\"text-align: right;\">\n",
       "      <th></th>\n",
       "      <th>position</th>\n",
       "      <th>symbol</th>\n",
       "    </tr>\n",
       "    <tr>\n",
       "      <th>symbol</th>\n",
       "      <th></th>\n",
       "      <th></th>\n",
       "    </tr>\n",
       "  </thead>\n",
       "  <tbody>\n",
       "    <tr>\n",
       "      <th>KEY</th>\n",
       "      <td>-260.0</td>\n",
       "      <td>KEY</td>\n",
       "    </tr>\n",
       "    <tr>\n",
       "      <th>KLAC</th>\n",
       "      <td>-3.0</td>\n",
       "      <td>KLAC</td>\n",
       "    </tr>\n",
       "    <tr>\n",
       "      <th>KEP</th>\n",
       "      <td>372.0</td>\n",
       "      <td>KEP</td>\n",
       "    </tr>\n",
       "    <tr>\n",
       "      <th>TOT</th>\n",
       "      <td>86.0</td>\n",
       "      <td>TOT</td>\n",
       "    </tr>\n",
       "    <tr>\n",
       "      <th>AXP</th>\n",
       "      <td>5.0</td>\n",
       "      <td>AXP</td>\n",
       "    </tr>\n",
       "    <tr>\n",
       "      <th>...</th>\n",
       "      <td>...</td>\n",
       "      <td>...</td>\n",
       "    </tr>\n",
       "    <tr>\n",
       "      <th>GGG</th>\n",
       "      <td>35.0</td>\n",
       "      <td>GGG</td>\n",
       "    </tr>\n",
       "    <tr>\n",
       "      <th>PE</th>\n",
       "      <td>-674.0</td>\n",
       "      <td>PE</td>\n",
       "    </tr>\n",
       "    <tr>\n",
       "      <th>PCTY</th>\n",
       "      <td>-11.0</td>\n",
       "      <td>PCTY</td>\n",
       "    </tr>\n",
       "    <tr>\n",
       "      <th>TRU</th>\n",
       "      <td>12.0</td>\n",
       "      <td>TRU</td>\n",
       "    </tr>\n",
       "    <tr>\n",
       "      <th>RF</th>\n",
       "      <td>-294.0</td>\n",
       "      <td>RF</td>\n",
       "    </tr>\n",
       "  </tbody>\n",
       "</table>\n",
       "<p>955 rows × 2 columns</p>\n",
       "</div>"
      ],
      "text/plain": [
       "       position symbol\n",
       "symbol                \n",
       "KEY      -260.0    KEY\n",
       "KLAC       -3.0   KLAC\n",
       "KEP       372.0    KEP\n",
       "TOT        86.0    TOT\n",
       "AXP         5.0    AXP\n",
       "...         ...    ...\n",
       "GGG        35.0    GGG\n",
       "PE       -674.0     PE\n",
       "PCTY      -11.0   PCTY\n",
       "TRU        12.0    TRU\n",
       "RF       -294.0     RF\n",
       "\n",
       "[955 rows x 2 columns]"
      ]
     },
     "execution_count": 19,
     "metadata": {},
     "output_type": "execute_result"
    }
   ],
   "source": [
    "CurrentPortfolio"
   ]
  },
  {
   "cell_type": "code",
   "execution_count": null,
   "metadata": {},
   "outputs": [],
   "source": [
    "CurrentPortfolio = pd.DataFrame()\n",
    "for element in ib.portfolio():\n",
    "    symbol = str(element).split(\"symbol='\")[1].split(\"'\")[0]\n",
    "#     primaryExchange = str(element).split(\"primaryExchange='\")[1].split(\"'\")[0]\n",
    "    position =str(element).split(\"position=\")[1].split(\",\")[0]\n",
    "    unrealizedPNL = str(element).split(\"unrealizedPNL=\")[1].split(\",\")[0]\n",
    "    realizedPNL = str(element).split(\"realizedPNL=\")[1].split(\",\")[0]\n",
    "    marketValue = str(element).split(\"marketValue=\")[1].split(\",\")[0]\n",
    "    list_row = {\"symbol\":symbol, \"position\":position,\"unrealizedPNL\":unrealizedPNL,\"realizedPNL\":realizedPNL,\"marketValue\":marketValue}\n",
    "    \n",
    "    CurrentPortfolio = CurrentPortfolio.append(list_row, ignore_index=True)"
   ]
  },
  {
   "cell_type": "code",
   "execution_count": 5,
   "metadata": {},
   "outputs": [
    {
     "data": {
      "text/plain": [
       "PortfolioItem(contract=Stock(conId=1715006, symbol='A', right='0', primaryExchange='NYSE', currency='USD', localSymbol='A', tradingClass='A'), position=8.0, marketPrice=89.973999, marketValue=719.79, averageCost=77.775, unrealizedPNL=97.59, realizedPNL=0.0, account='DU1870227')"
      ]
     },
     "execution_count": 5,
     "metadata": {},
     "output_type": "execute_result"
    }
   ],
   "source": [
    "ib.portfolio()[0]"
   ]
  },
  {
   "cell_type": "code",
   "execution_count": 6,
   "metadata": {},
   "outputs": [
    {
     "data": {
      "text/plain": [
       "Position(account='DU1870227', contract=Stock(conId=8809, symbol='KEY', exchange='NYSE', currency='USD', localSymbol='KEY', tradingClass='KEY'), position=-260.0, avgCost=10.39626615)"
      ]
     },
     "execution_count": 6,
     "metadata": {},
     "output_type": "execute_result"
    }
   ],
   "source": [
    "ib.positions()[0]"
   ]
  },
  {
   "cell_type": "code",
   "execution_count": null,
   "metadata": {},
   "outputs": [],
   "source": [
    "import sys\n",
    "import matplotlib.pyplot as plt\n",
    "import pandas as pd\n",
    "from scipy.stats.stats import pearsonr\n",
    "import random\n",
    "import json\n",
    "from itertools import permutations\n",
    "import numpy as np\n",
    "import copy\n",
    "import pickle\n",
    "import time\n",
    "import multiprocessing as mp\n",
    "import math\n",
    "import matplotlib.pyplot as plt\n",
    "from IPython.display import display\n",
    "from datetime import datetime\n",
    "import datetime as dt\n",
    "import ib_insync\n",
    "print(ib_insync.__all__)\n",
    "\n",
    "from ib_insync import *\n",
    "util.startLoop()\n",
    "\n",
    "#Connect to IB Gateway\n",
    "ib = IB()\n",
    "ib.connect('127.0.0.1', 4000, clientId=1,timeout=100)\n",
    "\n",
    "def format_days(x):\n",
    "    if len(x)<2:\n",
    "        return(\"0\"+x)\n",
    "    else:\n",
    "        return(x)\n",
    "    \n",
    "def intersection(lst1, lst2): \n",
    "    lst3 = [value for value in lst1 if value in lst2] \n",
    "    return lst3 \n",
    "\n",
    "#inut file\n",
    "target_position = pd.read_pickle(\"dailyorders.pickle\")\n",
    "target_position.index = pd.to_datetime(target_position.index)\n",
    "target_position = target_position[target_position.index==target_position.index[-1]]\n",
    "\n",
    "\n",
    "##insert the location of the exchange.\n",
    "ExchangeData = pd.read_csv(\"exchange.csv\")\n",
    "ExchangeData.index= ExchangeData[\"Stock\"]\n",
    "ExchangeData.loc[\"AAPL\"][\"primaryExchange\"]==\"NASDAQ\"\n",
    "StrategyDay = str(target_position.index[0].year)+\"-\"+format_days(str(target_position.index[0].month))+\"-\"+format_days(str(target_position.index[0].day))\n",
    "\n",
    "\n",
    "#Construct CurrentPortfolio\n",
    "CurrentPortfolio = pd.DataFrame()\n",
    "for element in ib.portfolio():\n",
    "    symbol = str(element).split(\"symbol='\")[1].split(\"'\")[0]\n",
    "#     primaryExchange = str(element).split(\"primaryExchange='\")[1].split(\"'\")[0]\n",
    "    position =str(element).split(\"position=\")[1].split(\",\")[0]\n",
    "    unrealizedPNL = str(element).split(\"unrealizedPNL=\")[1].split(\",\")[0]\n",
    "    realizedPNL = str(element).split(\"realizedPNL=\")[1].split(\",\")[0]\n",
    "    marketValue = str(element).split(\"marketValue=\")[1].split(\",\")[0]\n",
    "    list_row = {\"symbol\":symbol, \"position\":position,\"unrealizedPNL\":unrealizedPNL,\"realizedPNL\":realizedPNL,\"marketValue\":marketValue}\n",
    "    \n",
    "    CurrentPortfolio = CurrentPortfolio.append(list_row, ignore_index=True)\n",
    "\n",
    "for company in target_position.columns:\n",
    "    if company not in CurrentPortfolio:\n",
    "        symbol = company\n",
    "        position = 0\n",
    "        unrealizedPNL = 0 \n",
    "        realizedPNL = 0\n",
    "        marketValue = 0\n",
    "        list_row = {\"symbol\":symbol, \"position\":position,\"unrealizedPNL\":unrealizedPNL,\"realizedPNL\":realizedPNL,\"marketValue\":marketValue}\n",
    "        \n",
    "        CurrentPortfolio = CurrentPortfolio.append(list_row, ignore_index=True)\n",
    "\n",
    "CurrentPortfolio.index = CurrentPortfolio[\"symbol\"]\n",
    "PreviousPortfolio = CurrentPortfolio.copy()\n",
    "excluse = {\"UTX\",\"RTN\",\"S\",\"ZAYO\",\"GDI\",\"SBGL\",\"INXN\",\"CY\",\"MSG\",\"LK\"}\n",
    "\n",
    "\n",
    "\n",
    "####\n",
    "\n",
    "# My file destination.\n",
    "\n",
    "#Currently not used\n",
    "##existing_stocks = set(CurrentPortfolio[\"symbol\"]).intersection(set(target_position))\n",
    "\n",
    "\n",
    "\n",
    "###Execution\n",
    "for element in target_position.columns:\n",
    "    amount_portfolio = CurrentPortfolio[CurrentPortfolio.index==element][\"position\"] \n",
    "    new_amount_portfolio = target_position[target_position.index==StrategyDay][element]\n",
    "\n",
    "    \n",
    "    # ROUNDING\n",
    "    amount_portfolio = int(round(amount_portfolio))\n",
    "    new_amount_portfolio = int(round(new_amount_portfolio))\n",
    "    \n",
    "    # Buy / Sell / Hold\n",
    "    if new_amount_portfolio>amount_portfolio:\n",
    "        direction = \"BUY\"\n",
    "        trade_amount = new_amount_portfolio - amount_portfolio\n",
    "    if new_amount_portfolio<amount_portfolio:\n",
    "        direction = \"SELL\"\n",
    "        trade_amount = amount_portfolio - new_amount_portfolio\n",
    "    if new_amount_portfolio==amount_portfolio:\n",
    "        direction = \"HOLD\"\n",
    "        trade_amount = 0\n",
    "    \n",
    "    if direction!=\"HOLD\":\n",
    "        if(stock not in excluse):\n",
    "            try:\n",
    "                contract = Stock(element, 'SMART', 'USD', primaryExchange=ExchangeData.loc[element][\"primaryExchange\"])\n",
    "                order = MarketOrder(direction, trade_amount)\n",
    "    #             trade = ib.placeOrder(contract, order)\n",
    "#                 print(contract)\n",
    "#                 print(order)\n",
    "            except:\n",
    "#                 print(element)\n"
   ]
  }
 ],
 "metadata": {
  "kernelspec": {
   "display_name": "Python 3",
   "language": "python",
   "name": "python3"
  },
  "language_info": {
   "codemirror_mode": {
    "name": "ipython",
    "version": 3
   },
   "file_extension": ".py",
   "mimetype": "text/x-python",
   "name": "python",
   "nbconvert_exporter": "python",
   "pygments_lexer": "ipython3",
   "version": "3.8.2"
  }
 },
 "nbformat": 4,
 "nbformat_minor": 4
}
